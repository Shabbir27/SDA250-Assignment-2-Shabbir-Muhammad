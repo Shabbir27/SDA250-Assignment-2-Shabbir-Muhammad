{
 "cells": [
  {
   "cell_type": "markdown",
   "id": "683d8f20",
   "metadata": {},
   "source": [
    "# Assignment 2\n",
    "\n",
    " Shabbir-301383831\n",
    " Importing and defining variables, Function to write output data, to get top 100 movie reviews and to get top 100 reviews for each of top 1000 movies.\n",
    " \n",
    "Muhammad-301420568\n",
    "Function to analyze sentiment, to get the sentiment score for each review of movie and for each movie and function to get number of positve and negative reviews.\n",
    "\n",
    "Combined work between both of us to generate the output and interpret the results.\n",
    " \n",
    " Sentiment Analysis on movie reviews of the top 250 movies on IMDB, using the NLTK VADER method, we have used polarity scores of each word to judge the review.\n",
    "\n",
    "### References\n",
    " - Hutto, C.J. & Gilbert, E.E. (2014). VADER: A Parsimonious Rule-based Model for Sentiment Analysis of Social Media Text. Eighth International Conference on Weblogs and Social Media (ICWSM-14). Ann Arbor, MI, June 2014."
   ]
  },
  {
   "cell_type": "markdown",
   "id": "0698b193",
   "metadata": {},
   "source": [
    "#### Importing Required Packages"
   ]
  },
  {
   "cell_type": "code",
   "execution_count": 6,
   "id": "4907faff",
   "metadata": {},
   "outputs": [],
   "source": [
    "import requests\n",
    "from bs4 import BeautifulSoup\n",
    "import re\n",
    "import nltk\n",
    "from nltk.sentiment import SentimentIntensityAnalyzer\n",
    "from nltk.corpus import stopwords\n",
    "import pandas as pd\n",
    "import csv"
   ]
  },
  {
   "cell_type": "markdown",
   "id": "d512c100",
   "metadata": {},
   "source": [
    "#### Defining Global Variables"
   ]
  },
  {
   "cell_type": "code",
   "execution_count": 10,
   "id": "2a4284d7",
   "metadata": {},
   "outputs": [
    {
     "name": "stderr",
     "output_type": "stream",
     "text": [
      "[nltk_data] Downloading package stopwords to\n",
      "[nltk_data]     C:\\Users\\Vatsaal\\AppData\\Roaming\\nltk_data...\n",
      "[nltk_data]   Package stopwords is already up-to-date!\n",
      "[nltk_data] Downloading package vader_lexicon to\n",
      "[nltk_data]     C:\\Users\\Vatsaal\\AppData\\Roaming\\nltk_data...\n",
      "[nltk_data]   Package vader_lexicon is already up-to-date!\n"
     ]
    }
   ],
   "source": [
    "# Download NLTK data\n",
    "nltk.download('stopwords')\n",
    "nltk.download('vader_lexicon')"
   ]
  },
  {
   "cell_type": "markdown",
   "id": "0bea160f",
   "metadata": {},
   "source": [
    "#### Defining Utility Functions\n",
    "\n",
    "Theses are the utility functions used in this notebook for the analysis."
   ]
  },
  {
   "cell_type": "code",
   "execution_count": 15,
   "id": "6b630e30",
   "metadata": {},
   "outputs": [],
   "source": [
    "# Function to write the output data to a CSV file\n",
    "def writeDataCSV(data):\n",
    "    try:\n",
    "        with open(\"output.csv\", 'w') as csvfile:\n",
    "            writer = csv.DictWriter(csvfile, fieldnames= ['movies', 'negative', 'positive'])\n",
    "            writer.writeheader()\n",
    "            for item in data:\n",
    "                writer.writerow(item)\n",
    "    except IOError:\n",
    "        print(\"I/O Error\")\n",
    "        \n",
    "# Function to get the top 100 reviews for a given movie\n",
    "def get_reviews(movie_id):\n",
    "    reviews = []\n",
    "    for i in range(1, 2):\n",
    "        url = f\"https://www.imdb.com/title/{movie_id}/reviews/_ajax?sort=submissionDate&dir=desc&ratingFilter=0&page={i}\"\n",
    "        response = requests.get(url)\n",
    "        soup = BeautifulSoup(response.content, \"html.parser\")\n",
    "        reviews.extend([r.text.strip() for r in soup.select(\".content .text\")])\n",
    "        if len(reviews) >= 5:\n",
    "            break\n",
    "    return reviews\n",
    "\n",
    "\n",
    "# Function to get the top 100 reviews for each of the top 1000 movies\n",
    "def get_movie_reviews():\n",
    "    url = \"https://www.imdb.com/chart/top\"\n",
    "    response = requests.get(url)\n",
    "    soup = BeautifulSoup(response.content, \"html.parser\")\n",
    "    movies = soup.select(\".lister-list tr\")\n",
    "    movie_reviews = {}\n",
    "    for i in range(1, len(movies)):\n",
    "        movie_id = re.search(\"/title/(.*)/\", movies[i].select_one(\".titleColumn a\")[\"href\"]).group(1)\n",
    "        movie_name = movies[i].select_one(\".titleColumn a\").text\n",
    "        movie_reviews[movie_name] = get_reviews(movie_id)\n",
    "    return movie_reviews\n",
    "\n",
    "# Function to analyze the sentiment of a given text\n",
    "def analyze_sentiment(text):\n",
    "    stop_words = set(stopwords.words('english'))\n",
    "    sia = SentimentIntensityAnalyzer()\n",
    "    words = text.lower().split()\n",
    "    words = [word for word in words if word not in stop_words]\n",
    "    text = ' '.join(words)\n",
    "    return sia.polarity_scores(text)['compound']\n",
    "\n",
    "\n",
    "# Function to get the sentiment score for each review of a movie\n",
    "def get_sentiment_scores(reviews):\n",
    "    scores = []\n",
    "    for review in reviews:\n",
    "        scores.append(analyze_sentiment(review))\n",
    "    return scores\n",
    "\n",
    "# Function to get the sentiment scores for each review of each movie\n",
    "def get_movie_sentiment_scores(movie_reviews):\n",
    "    movie_sentiment_scores = {}\n",
    "    for movie, reviews in movie_reviews.items():\n",
    "        movie_sentiment_scores[movie] = get_sentiment_scores(reviews)\n",
    "    return movie_sentiment_scores\n",
    "\n",
    "# Function to get the number of positive and negative reviews for each movie\n",
    "def get_movie_sentiment_counts(movie_sentiment_scores):\n",
    "    movie_sentiment_counts = {}\n",
    "    for movie, scores in movie_sentiment_scores.items():\n",
    "        positive = sum(1 for score in scores if score > 0)\n",
    "        negative = sum(1 for score in scores if score < 0)\n",
    "        movie_sentiment_counts[movie] = {\"Positive\": positive, \"Negative\": negative}\n",
    "    return movie_sentiment_counts\n"
   ]
  },
  {
   "cell_type": "markdown",
   "id": "f9a1be4f",
   "metadata": {},
   "source": [
    "#### Using all the functions above to generate the ouput"
   ]
  },
  {
   "cell_type": "code",
   "execution_count": 17,
   "id": "2db13c24",
   "metadata": {},
   "outputs": [
    {
     "name": "stdout",
     "output_type": "stream",
     "text": [
      "Result\n"
     ]
    },
    {
     "data": {
      "text/html": [
       "<div>\n",
       "<style scoped>\n",
       "    .dataframe tbody tr th:only-of-type {\n",
       "        vertical-align: middle;\n",
       "    }\n",
       "\n",
       "    .dataframe tbody tr th {\n",
       "        vertical-align: top;\n",
       "    }\n",
       "\n",
       "    .dataframe thead th {\n",
       "        text-align: right;\n",
       "    }\n",
       "</style>\n",
       "<table border=\"1\" class=\"dataframe\">\n",
       "  <thead>\n",
       "    <tr style=\"text-align: right;\">\n",
       "      <th></th>\n",
       "      <th>Positive</th>\n",
       "      <th>Negative</th>\n",
       "    </tr>\n",
       "  </thead>\n",
       "  <tbody>\n",
       "    <tr>\n",
       "      <th>The Godfather</th>\n",
       "      <td>23</td>\n",
       "      <td>2</td>\n",
       "    </tr>\n",
       "    <tr>\n",
       "      <th>The Dark Knight</th>\n",
       "      <td>22</td>\n",
       "      <td>3</td>\n",
       "    </tr>\n",
       "    <tr>\n",
       "      <th>The Godfather Part II</th>\n",
       "      <td>23</td>\n",
       "      <td>2</td>\n",
       "    </tr>\n",
       "    <tr>\n",
       "      <th>12 Angry Men</th>\n",
       "      <td>20</td>\n",
       "      <td>5</td>\n",
       "    </tr>\n",
       "    <tr>\n",
       "      <th>Schindler's List</th>\n",
       "      <td>20</td>\n",
       "      <td>5</td>\n",
       "    </tr>\n",
       "    <tr>\n",
       "      <th>...</th>\n",
       "      <td>...</td>\n",
       "      <td>...</td>\n",
       "    </tr>\n",
       "    <tr>\n",
       "      <th>The Help</th>\n",
       "      <td>22</td>\n",
       "      <td>3</td>\n",
       "    </tr>\n",
       "    <tr>\n",
       "      <th>Dersu Uzala</th>\n",
       "      <td>24</td>\n",
       "      <td>1</td>\n",
       "    </tr>\n",
       "    <tr>\n",
       "      <th>Aladdin</th>\n",
       "      <td>25</td>\n",
       "      <td>0</td>\n",
       "    </tr>\n",
       "    <tr>\n",
       "      <th>Dances with Wolves</th>\n",
       "      <td>21</td>\n",
       "      <td>4</td>\n",
       "    </tr>\n",
       "    <tr>\n",
       "      <th>Gandhi</th>\n",
       "      <td>19</td>\n",
       "      <td>5</td>\n",
       "    </tr>\n",
       "  </tbody>\n",
       "</table>\n",
       "<p>249 rows × 2 columns</p>\n",
       "</div>"
      ],
      "text/plain": [
       "                       Positive  Negative\n",
       "The Godfather                23         2\n",
       "The Dark Knight              22         3\n",
       "The Godfather Part II        23         2\n",
       "12 Angry Men                 20         5\n",
       "Schindler's List             20         5\n",
       "...                         ...       ...\n",
       "The Help                     22         3\n",
       "Dersu Uzala                  24         1\n",
       "Aladdin                      25         0\n",
       "Dances with Wolves           21         4\n",
       "Gandhi                       19         5\n",
       "\n",
       "[249 rows x 2 columns]"
      ]
     },
     "execution_count": 17,
     "metadata": {},
     "output_type": "execute_result"
    }
   ],
   "source": [
    "# First we will fetch all the movies and their respective reviews\n",
    "movie_reviews = get_movie_reviews()\n",
    "\n",
    "# Analysing each review using their scores\n",
    "movie_sentiment_scores = get_movie_sentiment_scores(movie_reviews)\n",
    "\n",
    "# Counting each reviews to create the output Data\n",
    "movie_sentiment_counts = get_movie_sentiment_counts(movie_sentiment_scores)\n",
    "\n",
    "# Creating a Pandas Dataframe to view the output Data in a formatted way\n",
    "movie_sentiment_counts_df = pd.DataFrame(movie_sentiment_counts).T\n",
    "\n",
    "# # Writing the data to a CSV file \"output.csv\"\n",
    "# writeDataCSV(movie_sentiment_counts)\n",
    "\n",
    "# Dataframe preview\n",
    "print(\"Result\")\n",
    "movie_sentiment_counts_df"
   ]
  },
  {
   "cell_type": "code",
   "execution_count": null,
   "id": "d0ff1142",
   "metadata": {},
   "outputs": [],
   "source": []
  }
 ],
 "metadata": {
  "kernelspec": {
   "display_name": "Python 3 (ipykernel)",
   "language": "python",
   "name": "python3"
  },
  "language_info": {
   "codemirror_mode": {
    "name": "ipython",
    "version": 3
   },
   "file_extension": ".py",
   "mimetype": "text/x-python",
   "name": "python",
   "nbconvert_exporter": "python",
   "pygments_lexer": "ipython3",
   "version": "3.9.13"
  }
 },
 "nbformat": 4,
 "nbformat_minor": 5
}
